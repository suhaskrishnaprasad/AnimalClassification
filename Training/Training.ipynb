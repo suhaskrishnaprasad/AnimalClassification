{
  "cells": [
    {
      "cell_type": "code",
      "execution_count": null,
      "id": "11810b50",
      "metadata": {
        "id": "11810b50"
      },
      "outputs": [],
      "source": [
        "# Import Libraries\n",
        "import warnings\n",
        "warnings.filterwarnings(\"ignore\")\n",
        "\n",
        "import os\n",
        "import glob\n",
        "import matplotlib.pyplot as plt\n",
        "# Keras API\n",
        "import tensorflow as tf\n",
        "\n",
        "from tensorflow import keras\n",
        "import keras\n",
        "from tensorflow.keras import layers,models\n",
        "from keras.models import Sequential\n",
        "from keras.layers import Dense,Dropout,Flatten\n",
        "from keras.layers import Conv2D,MaxPooling2D,Activation,AveragePooling2D,BatchNormalization\n",
        "from keras.utils import load_img,img_to_array\n",
        "from keras.preprocessing.image import ImageDataGenerator\n",
        "from keras.utils import np_utils"
      ]
    },
    {
      "cell_type": "code",
      "execution_count": null,
      "id": "jpJNaPPibxze",
      "metadata": {
        "id": "jpJNaPPibxze"
      },
      "outputs": [],
      "source": [
        "from google.colab import drive\n",
        "drive.mount('/content/drive')"
      ]
    },
    {
      "cell_type": "code",
      "execution_count": null,
      "id": "OnWsxFvVb6p2",
      "metadata": {
        "id": "OnWsxFvVb6p2"
      },
      "outputs": [],
      "source": [
        "! unzip /content/drive/MyDrive/Datasetold.zip"
      ]
    },
    {
      "cell_type": "code",
      "execution_count": null,
      "id": "fe0200e3",
      "metadata": {
        "id": "fe0200e3"
      },
      "outputs": [],
      "source": [
        "test_dir = \"/content/Datasetold/validation\"\n",
        "train_dir = \"/content/Datasetold/training\""
      ]
    },
    {
      "cell_type": "code",
      "execution_count": null,
      "id": "86dbbd7d",
      "metadata": {
        "id": "86dbbd7d"
      },
      "outputs": [],
      "source": [
        "# function to get count of images\n",
        "def get_files(directory):\n",
        "  if not os.path.exists(directory):\n",
        "    return 0\n",
        "  count=0\n",
        "  for current_path,dirs,files in os.walk(directory):\n",
        "    for dr in dirs:\n",
        "      count+= len(glob.glob(os.path.join(current_path,dr+\"/*\")))\n",
        "  return count"
      ]
    },
    {
      "cell_type": "code",
      "execution_count": null,
      "id": "80328a5e",
      "metadata": {
        "id": "80328a5e"
      },
      "outputs": [],
      "source": [
        "train_samples =get_files(train_dir)\n",
        "num_classes=len(glob.glob(train_dir+\"/*\"))\n",
        "test_samples=get_files(test_dir)\n",
        "print(num_classes,\"Classes\")\n",
        "print(train_samples,\"Train images\")\n",
        "print(test_samples,\"Test images\")"
      ]
    },
    {
      "cell_type": "code",
      "execution_count": null,
      "id": "61da3182",
      "metadata": {
        "id": "61da3182"
      },
      "outputs": [],
      "source": [
        "train_datagen= ImageDataGenerator(rescale=1/255,\n",
        "                                   shear_range=0.2,\n",
        "                                   zoom_range=0.2,\n",
        "                                   horizontal_flip=True)\n",
        "test_datagen=ImageDataGenerator(rescale=1/255)"
      ]
    },
    {
      "cell_type": "code",
      "execution_count": null,
      "id": "eaa1ec2f",
      "metadata": {
        "id": "eaa1ec2f"
      },
      "outputs": [],
      "source": [
        "img_width,img_height =256,256\n",
        "input_shape=(img_width,img_height,3)\n",
        "batch_size = 128\n",
        "\n",
        "train_generator =train_datagen.flow_from_directory(train_dir,target_size=(img_width,img_height),batch_size=batch_size)\n",
        "test_generator=test_datagen.flow_from_directory(test_dir,shuffle=True,target_size=(img_width,img_height),batch_size=batch_size)"
      ]
    },
    {
      "cell_type": "code",
      "execution_count": null,
      "id": "a691e19a",
      "metadata": {
        "id": "a691e19a"
      },
      "outputs": [],
      "source": [
        "model = Sequential()\n",
        "\n",
        "model.add(Conv2D(32, (5, 5),input_shape=input_shape,activation='relu'))\n",
        "model.add(MaxPooling2D(pool_size=(3, 3)))\n",
        "\n",
        "model.add(Conv2D(32, (3, 3),activation='relu'))\n",
        "model.add(MaxPooling2D(pool_size=(2, 2)))\n",
        "\n",
        "model.add(Conv2D(64, (3, 3),activation='relu'))\n",
        "model.add(MaxPooling2D(pool_size=(2, 2)))\n",
        "\n",
        "model.add(Flatten())\n",
        "\n",
        "model.add(Dense(512,activation='relu'))\n",
        "model.add(Dropout(0.25))\n",
        "model.add(Dense(128,activation='relu'))\n",
        "\n",
        "model.add(Dense(5,activation='softmax'))\n",
        "model.summary()"
      ]
    },
    {
      "cell_type": "code",
      "execution_count": null,
      "id": "91a498d7",
      "metadata": {
        "id": "91a498d7"
      },
      "outputs": [],
      "source": [
        "validation_generator = train_datagen.flow_from_directory(\n",
        "    train_dir, # same directory as training data\n",
        "    target_size=(img_height, img_width),\n",
        "    batch_size=batch_size)"
      ]
    },
    {
      "cell_type": "code",
      "execution_count": null,
      "id": "4591d7bc",
      "metadata": {
        "id": "4591d7bc",
        "scrolled": true
      },
      "outputs": [],
      "source": [
        "opt=tf.keras.optimizers.Adam(lr=0.001)\n",
        "model.compile(optimizer=opt,loss='categorical_crossentropy',metrics=['accuracy'])\n",
        "train=model.fit_generator(train_generator,\n",
        "                          epochs=10,\n",
        "                          steps_per_epoch=train_generator.samples // batch_size,\n",
        "                          validation_data=test_generator,\n",
        "                        verbose=1)"
      ]
    },
    {
      "cell_type": "code",
      "execution_count": null,
      "id": "03fddb3b",
      "metadata": {
        "id": "03fddb3b"
      },
      "outputs": [],
      "source": [
        "from keras.callbacks import History\n",
        "#history = History()\n",
        "\n",
        "acc = train.history['accuracy']\n",
        "val_acc = train.history['val_accuracy']\n",
        "loss = train.history['loss']\n",
        "val_loss = train.history['val_loss']\n",
        "\n",
        "#acc = history.history['accuracy']\n",
        "#val_acc = history.history['val_accuracy']\n",
        "\n",
        "#loss = history.history['loss']\n",
        "#val_loss = history.history['val_loss']\n",
        "\n",
        "epochs = range(1, len(acc) + 1)\n",
        "#Train and validation accuracy\n",
        "plt.plot(epochs, acc, 'b', label='Training accurarcy')\n",
        "plt.plot(epochs, val_acc, 'r', label='Validation accurarcy')\n",
        "plt.title('Training and Validation accurarcy')\n",
        "plt.legend()\n",
        "\n",
        "plt.figure()\n",
        "#Train and validation loss\n",
        "plt.plot(epochs, loss, 'b', label='Training loss')\n",
        "plt.plot(epochs, val_loss, 'r', label='Validation loss')\n",
        "plt.title('Training and Validation loss')\n",
        "plt.legend()\n",
        "plt.show()"
      ]
    },
    {
      "cell_type": "code",
      "execution_count": null,
      "id": "16bb311b",
      "metadata": {
        "id": "16bb311b"
      },
      "outputs": [],
      "source": [
        "score,accuracy =model.evaluate(test_generator,verbose=1)\n",
        "print(\"Test score is {}\".format(score))\n",
        "print(\"Test accuracy is {}\".format(accuracy))"
      ]
    },
    {
      "cell_type": "code",
      "execution_count": null,
      "id": "073c282b",
      "metadata": {
        "id": "073c282b"
      },
      "outputs": [],
      "source": [
        "#Save entire model with optimizer, architecture, weights and training configuration.\n",
        "from keras.models import load_model\n",
        "model.save('/content/drive/MyDrive/animalclassification.h5')"
      ]
    }
  ],
  "metadata": {
    "accelerator": "GPU",
    "colab": {
      "provenance": [],
      "private_outputs": true,
      "gpuType": "T4"
    },
    "kernelspec": {
      "display_name": "Python 3",
      "name": "python3"
    },
    "language_info": {
      "name": "python"
    }
  },
  "nbformat": 4,
  "nbformat_minor": 5
}